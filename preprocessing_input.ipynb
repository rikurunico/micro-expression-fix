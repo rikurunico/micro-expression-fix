{
 "cells": [
  {
   "cell_type": "code",
   "execution_count": 1,
   "metadata": {},
   "outputs": [],
   "source": [
    "import cv2, os\n",
    "\n",
    "# Buat fungsi agar bisa dipanggil di codebase main (nantinya)\n",
    "def get_frames_by_input_video(pathInputVideo, framePerSecond=60):\n",
    "    # Cek apakah filenya terdeteksi\n",
    "    if not os.path.exists(pathInputVideo):\n",
    "        print(f\"Path file {pathInputVideo} tidak valid\")\n",
    "        return \n",
    "\n",
    "    # Hapus file didalam folder images\n",
    "    images_dir = \"dataset/video_to_images\"\n",
    "    # Buat path directory jika folder/file pathnya tidak ada\n",
    "    os.makedirs(images_dir, exist_ok=True)\n",
    "    # Looping untuk menghapus file convert image didalam folder\n",
    "    for filename in os.listdir(images_dir):    \n",
    "        filepath = os.path.join(images_dir, filename)\n",
    "        os.remove(filepath)\n",
    "\n",
    "    # Convert path video ke video capture\n",
    "    vidcap = cv2.VideoCapture(pathInputVideo)\n",
    "\n",
    "    # Set frame rate persecond dari input video\n",
    "    # vidcap.set(cv2.CAP_PROP_FPS, framePerSecond)\n",
    "\n",
    "    # Get frame count yang didapat dari video cap (durasi video * frame persecond dari video)\n",
    "    # frame_count = vidcap.get(cv2.CAP_PROP_FRAME_COUNT)\n",
    "\n",
    "    # Set # Get frame count yang didapat ke video cap (durasi video * frame persecond dari video)\n",
    "    # vidcap.set(cv2.CAP_PROP_POS_FRAMES, frame_count)\n",
    "\n",
    "    # Buat variabel untuk looping while\n",
    "    count = 1\n",
    "\n",
    "    while True:\n",
    "        # Read setiap frame dari video (setiap looping framenya bertambah 1 sampai jumlah frame video habis baru success bernilai false)\n",
    "        success, image = vidcap.read()\n",
    "        if not success:\n",
    "            break\n",
    "\n",
    "        #  Write gambar ke jpg\n",
    "        cv2.imwrite(f\"{images_dir}/frame{count}.jpg\", image)\n",
    "        # count ++ untuk melanjutkan looping ke frame berikutnya\n",
    "        count += 1\n",
    "        # hitung waktu diambilnya frame ke sekian detik dari durasi video \n",
    "        expected_frame_time = count / framePerSecond\n",
    "        # set waktu frame yang diambil \n",
    "        vidcap.set(cv2.CAP_PROP_POS_MSEC, expected_frame_time * 1000)\n",
    "\n",
    "get_frames_by_input_video(\"dataset/video/EP02_01f.avi\", 60)"
   ]
  }
 ],
 "metadata": {
  "kernelspec": {
   "display_name": "Python 3",
   "language": "python",
   "name": "python3"
  },
  "language_info": {
   "codemirror_mode": {
    "name": "ipython",
    "version": 3
   },
   "file_extension": ".py",
   "mimetype": "text/x-python",
   "name": "python",
   "nbconvert_exporter": "python",
   "pygments_lexer": "ipython3",
   "version": "3.12.2"
  }
 },
 "nbformat": 4,
 "nbformat_minor": 2
}
